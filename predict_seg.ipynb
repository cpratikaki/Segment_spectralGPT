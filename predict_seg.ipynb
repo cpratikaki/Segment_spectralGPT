{
 "cells": [
  {
   "cell_type": "code",
   "execution_count": 1,
   "metadata": {},
   "outputs": [],
   "source": [
    "import os\n",
    "os.environ[\"CUDA_VISIBLE_DEVICES\"] = \"\""
   ]
  },
  {
   "cell_type": "code",
   "execution_count": 4,
   "metadata": {},
   "outputs": [
    {
     "name": "stdout",
     "output_type": "stream",
     "text": [
      "Using device: cpu\n",
      "img_size (128, 128) patch_size (8, 8) frames 12 t_patch_size 3\n",
      "torch.Size([1, 12, 128, 128])\n",
      "Inference time: 4.491 seconds\n",
      "(128, 128)\n"
     ]
    },
    {
     "data": {
      "image/png": "[encoded data removed]",
      "text/plain": [
       "<Figure size 800x800 with 1 Axes>"
      ]
     },
     "metadata": {},
     "output_type": "display_data"
    }
   ],
   "source": [
    "import os\n",
    "import time\n",
    "import json\n",
    "import torch\n",
    "import numpy as np\n",
    "from PIL import Image\n",
    "from torchvision import transforms\n",
    "import skimage.io as io\n",
    "import matplotlib.pyplot as plt\n",
    "\n",
    "from src.models_vit_tensor_CD_2 import vit_base_patch8\n",
    "\n",
    "\n",
    "def time_synchronized():\n",
    "    torch.cuda.synchronize() if torch.cuda.is_available() else None\n",
    "    return time.time()\n",
    "\n",
    "\n",
    "def open_image(img_path):\n",
    "    img = io.imread(img_path).astype(np.float32)\n",
    "    return img\n",
    "\n",
    "\n",
    "def preprocess_image(img):\n",
    "    b = np.mean(img, axis=2, keepdims=True)\n",
    "    img = np.concatenate((img, b, b), axis=2)\n",
    "\n",
    "    kid = img - img.min(axis=(0, 1), keepdims=True)\n",
    "    mom = img.max(axis=(0, 1), keepdims=True) - img.min(axis=(0, 1), keepdims=True) + 1e-10\n",
    "    img = kid / mom\n",
    "\n",
    "    transform = transforms.ToTensor()\n",
    "    return transform(img).unsqueeze(0)  # Add batch dim\n",
    "\n",
    "\n",
    "\n",
    "\n",
    "def visualize_mask(mask, palette):\n",
    "    color_mask = Image.fromarray(mask, mode=\"P\")\n",
    "    color_mask.putpalette(palette)\n",
    "\n",
    "    plt.figure(figsize=(8, 8))\n",
    "    plt.imshow(color_mask)\n",
    "    plt.axis('off')\n",
    "    plt.title(\"Prediction Visualization\")\n",
    "    plt.show()\n",
    "\n",
    "\n",
    "def main(image_path):\n",
    "    # ----- Paths -----\n",
    "    weights_path = \"checkpoint/model_multi_0.pth\"\n",
    "    palette_path = \"checkpoint/palette.json\"\n",
    "\n",
    "    # ----- Checks -----\n",
    "    assert os.path.exists(image_path), f\"Image not found: {image_path}\"\n",
    "    assert os.path.exists(weights_path), f\"Model weights not found: {weights_path}\"\n",
    "    assert os.path.exists(palette_path), f\"Palette file not found: {palette_path}\"\n",
    "\n",
    "    with open(palette_path, \"r\") as f:\n",
    "        palette_dict = json.load(f)\n",
    "        palette = [v for sublist in palette_dict.values() for v in sublist]\n",
    "\n",
    "    # ----- Device & Model -----\n",
    "    device = torch.device(\"cuda:0\" if torch.cuda.is_available() else \"cpu\")\n",
    "    print(f\"Using device: {device}\")\n",
    "\n",
    "    model = vit_base_patch8(num_classes=13)\n",
    "    model.load_state_dict(torch.load(weights_path, map_location=device, weights_only=False)['model'])\n",
    "    model.to(device)\n",
    "    model.eval()\n",
    "\n",
    "    # ----- Load and preprocess -----\n",
    "    img = open_image(image_path)\n",
    "    input_tensor = preprocess_image(img).to(device)\n",
    "    print(input_tensor.shape)\n",
    "\n",
    "    # ----- Inference -----\n",
    "    with torch.no_grad():\n",
    "        t0 = time_synchronized()\n",
    "        output = model(input_tensor)\n",
    "        t1 = time_synchronized()\n",
    "        print(f\"Inference time: {t1 - t0:.3f} seconds\")\n",
    "\n",
    "        prediction = output['out'].argmax(1).squeeze(0).cpu().numpy().astype(np.uint8)\n",
    "        print(prediction.shape)\n",
    "        # mapped_pred = map_prediction(prediction)\n",
    "\n",
    "    # ----- Visualize -----\n",
    "    visualize_mask(prediction, palette)\n",
    "\n",
    "\n",
    "if __name__ == '__main__':\n",
    "    # Example usage\n",
    "    test_image_path = \"SegMunich_train_img_10.tif\"  # Replace with your test image\n",
    "    main(test_image_path)\n"
   ]
  }
 ],
 "metadata": {
  "kernelspec": {
   "display_name": "Python 3",
   "language": "python",
   "name": "python3"
  },
  "language_info": {
   "codemirror_mode": {
    "name": "ipython",
    "version": 3
   },
   "file_extension": ".py",
   "mimetype": "text/x-python",
   "name": "python",
   "nbconvert_exporter": "python",
   "pygments_lexer": "ipython3",
   "version": "3.11.9"
  }
 },
 "nbformat": 4,
 "nbformat_minor": 2
}
